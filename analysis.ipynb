{
 "cells": [
  {
   "cell_type": "code",
   "execution_count": 33,
   "metadata": {},
   "outputs": [],
   "source": [
    "import pandas as pd\n",
    "import os\n",
    "import numpy as np\n",
    "import matplotlib.pyplot as plt\n",
    "import seaborn as sns \n",
    "from datetime import datetime\n",
    "from sklearn.cluster import KMeans\n",
    "import sqlite3"
   ]
  },
  {
   "cell_type": "markdown",
   "metadata": {},
   "source": [
    "## **Función para lectura de datos**"
   ]
  },
  {
   "cell_type": "markdown",
   "metadata": {},
   "source": [
    "Para empezar se cargarán los datos"
   ]
  },
  {
   "cell_type": "code",
   "execution_count": 2,
   "metadata": {},
   "outputs": [],
   "source": [
    "def carga_datos_ventas(name_document):\n",
    "    \"\"\"\n",
    "    Lectura de los datos a tráves de la librería de pandas.\n",
    "\n",
    "    Args:\n",
    "    name_document: Nombre del archivo que se va a leer.\n",
    "    \"\"\"\n",
    "\n",
    "    df = pd.read_excel(name_document)\n",
    "    return df\n"
   ]
  },
  {
   "cell_type": "code",
   "execution_count": 3,
   "metadata": {},
   "outputs": [],
   "source": [
    "df = carga_datos_ventas(\"Techincal Test.xlsx\")"
   ]
  },
  {
   "cell_type": "code",
   "execution_count": 4,
   "metadata": {},
   "outputs": [
    {
     "data": {
      "text/html": [
       "<div>\n",
       "<style scoped>\n",
       "    .dataframe tbody tr th:only-of-type {\n",
       "        vertical-align: middle;\n",
       "    }\n",
       "\n",
       "    .dataframe tbody tr th {\n",
       "        vertical-align: top;\n",
       "    }\n",
       "\n",
       "    .dataframe thead th {\n",
       "        text-align: right;\n",
       "    }\n",
       "</style>\n",
       "<table border=\"1\" class=\"dataframe\">\n",
       "  <thead>\n",
       "    <tr style=\"text-align: right;\">\n",
       "      <th></th>\n",
       "      <th>NumeroOrden</th>\n",
       "      <th>Fecha</th>\n",
       "      <th>Identificacion</th>\n",
       "      <th>idProducto</th>\n",
       "      <th>Categoria</th>\n",
       "      <th>Marca</th>\n",
       "      <th>ValorTotalOrden</th>\n",
       "      <th>CantidadTotalOrden</th>\n",
       "      <th>PrecioUnitario</th>\n",
       "      <th>Cantidad</th>\n",
       "    </tr>\n",
       "  </thead>\n",
       "  <tbody>\n",
       "    <tr>\n",
       "      <th>0</th>\n",
       "      <td>1434</td>\n",
       "      <td>2023-04-01</td>\n",
       "      <td>1256</td>\n",
       "      <td>1</td>\n",
       "      <td>1.0</td>\n",
       "      <td>001</td>\n",
       "      <td>79824</td>\n",
       "      <td>1</td>\n",
       "      <td>79823.53</td>\n",
       "      <td>1</td>\n",
       "    </tr>\n",
       "    <tr>\n",
       "      <th>1</th>\n",
       "      <td>1435</td>\n",
       "      <td>2023-04-01</td>\n",
       "      <td>1229</td>\n",
       "      <td>2</td>\n",
       "      <td>1.0</td>\n",
       "      <td>001</td>\n",
       "      <td>84025</td>\n",
       "      <td>1</td>\n",
       "      <td>84025.21</td>\n",
       "      <td>1</td>\n",
       "    </tr>\n",
       "    <tr>\n",
       "      <th>2</th>\n",
       "      <td>1436</td>\n",
       "      <td>2023-04-01</td>\n",
       "      <td>147</td>\n",
       "      <td>3</td>\n",
       "      <td>1.0</td>\n",
       "      <td>001</td>\n",
       "      <td>153765</td>\n",
       "      <td>2</td>\n",
       "      <td>78142.86</td>\n",
       "      <td>1</td>\n",
       "    </tr>\n",
       "    <tr>\n",
       "      <th>3</th>\n",
       "      <td>1436</td>\n",
       "      <td>2023-04-01</td>\n",
       "      <td>147</td>\n",
       "      <td>4</td>\n",
       "      <td>1.0</td>\n",
       "      <td>001</td>\n",
       "      <td>153765</td>\n",
       "      <td>2</td>\n",
       "      <td>75621.85</td>\n",
       "      <td>1</td>\n",
       "    </tr>\n",
       "    <tr>\n",
       "      <th>4</th>\n",
       "      <td>1437</td>\n",
       "      <td>2023-04-01</td>\n",
       "      <td>1257</td>\n",
       "      <td>5</td>\n",
       "      <td>1.0</td>\n",
       "      <td>031</td>\n",
       "      <td>59655</td>\n",
       "      <td>1</td>\n",
       "      <td>59655.46</td>\n",
       "      <td>1</td>\n",
       "    </tr>\n",
       "  </tbody>\n",
       "</table>\n",
       "</div>"
      ],
      "text/plain": [
       "   NumeroOrden      Fecha  Identificacion  idProducto  Categoria Marca  \\\n",
       "0         1434 2023-04-01            1256           1        1.0   001   \n",
       "1         1435 2023-04-01            1229           2        1.0   001   \n",
       "2         1436 2023-04-01             147           3        1.0   001   \n",
       "3         1436 2023-04-01             147           4        1.0   001   \n",
       "4         1437 2023-04-01            1257           5        1.0   031   \n",
       "\n",
       "   ValorTotalOrden  CantidadTotalOrden  PrecioUnitario  Cantidad  \n",
       "0            79824                   1        79823.53         1  \n",
       "1            84025                   1        84025.21         1  \n",
       "2           153765                   2        78142.86         1  \n",
       "3           153765                   2        75621.85         1  \n",
       "4            59655                   1        59655.46         1  "
      ]
     },
     "execution_count": 4,
     "metadata": {},
     "output_type": "execute_result"
    }
   ],
   "source": [
    "df.head()"
   ]
  },
  {
   "cell_type": "code",
   "execution_count": 5,
   "metadata": {},
   "outputs": [
    {
     "data": {
      "text/plain": [
       "0"
      ]
     },
     "execution_count": 5,
     "metadata": {},
     "output_type": "execute_result"
    }
   ],
   "source": [
    "df.duplicated().sum()"
   ]
  },
  {
   "cell_type": "code",
   "execution_count": 6,
   "metadata": {},
   "outputs": [
    {
     "name": "stdout",
     "output_type": "stream",
     "text": [
      "<class 'pandas.core.frame.DataFrame'>\n",
      "RangeIndex: 3300 entries, 0 to 3299\n",
      "Data columns (total 10 columns):\n",
      " #   Column              Non-Null Count  Dtype         \n",
      "---  ------              --------------  -----         \n",
      " 0   NumeroOrden         3300 non-null   int64         \n",
      " 1   Fecha               3300 non-null   datetime64[ns]\n",
      " 2   Identificacion      3300 non-null   int64         \n",
      " 3   idProducto          3300 non-null   int64         \n",
      " 4   Categoria           3296 non-null   float64       \n",
      " 5   Marca               3296 non-null   object        \n",
      " 6   ValorTotalOrden     3300 non-null   int64         \n",
      " 7   CantidadTotalOrden  3300 non-null   int64         \n",
      " 8   PrecioUnitario      3300 non-null   float64       \n",
      " 9   Cantidad            3300 non-null   int64         \n",
      "dtypes: datetime64[ns](1), float64(2), int64(6), object(1)\n",
      "memory usage: 257.9+ KB\n"
     ]
    }
   ],
   "source": [
    "df.info()"
   ]
  },
  {
   "cell_type": "markdown",
   "metadata": {},
   "source": [
    "Se puede observar que solo existen 4 datos nulos, en la columna de marca y categoria para efectos de tener en cuenta los valores aportados\n",
    "se eliminarán estas filas y se tendrá el valor total en cuenta."
   ]
  },
  {
   "cell_type": "markdown",
   "metadata": {},
   "source": [
    "# **Tratamiento de valores pérdidos**"
   ]
  },
  {
   "cell_type": "markdown",
   "metadata": {},
   "source": [
    "Ahora se llevará a cabo un tratamiento de valores pérdidos"
   ]
  },
  {
   "cell_type": "code",
   "execution_count": 7,
   "metadata": {},
   "outputs": [
    {
     "data": {
      "text/html": [
       "<div>\n",
       "<style scoped>\n",
       "    .dataframe tbody tr th:only-of-type {\n",
       "        vertical-align: middle;\n",
       "    }\n",
       "\n",
       "    .dataframe tbody tr th {\n",
       "        vertical-align: top;\n",
       "    }\n",
       "\n",
       "    .dataframe thead th {\n",
       "        text-align: right;\n",
       "    }\n",
       "</style>\n",
       "<table border=\"1\" class=\"dataframe\">\n",
       "  <thead>\n",
       "    <tr style=\"text-align: right;\">\n",
       "      <th></th>\n",
       "      <th>NumeroOrden</th>\n",
       "      <th>Fecha</th>\n",
       "      <th>Identificacion</th>\n",
       "      <th>idProducto</th>\n",
       "      <th>Categoria</th>\n",
       "      <th>Marca</th>\n",
       "      <th>ValorTotalOrden</th>\n",
       "      <th>CantidadTotalOrden</th>\n",
       "      <th>PrecioUnitario</th>\n",
       "      <th>Cantidad</th>\n",
       "    </tr>\n",
       "  </thead>\n",
       "  <tbody>\n",
       "    <tr>\n",
       "      <th>445</th>\n",
       "      <td>1806</td>\n",
       "      <td>2023-04-17</td>\n",
       "      <td>1601</td>\n",
       "      <td>170</td>\n",
       "      <td>NaN</td>\n",
       "      <td>NaN</td>\n",
       "      <td>322556</td>\n",
       "      <td>16</td>\n",
       "      <td>20159.66</td>\n",
       "      <td>4</td>\n",
       "    </tr>\n",
       "    <tr>\n",
       "      <th>497</th>\n",
       "      <td>1852</td>\n",
       "      <td>2023-04-18</td>\n",
       "      <td>1643</td>\n",
       "      <td>170</td>\n",
       "      <td>NaN</td>\n",
       "      <td>NaN</td>\n",
       "      <td>725748</td>\n",
       "      <td>36</td>\n",
       "      <td>20159.66</td>\n",
       "      <td>6</td>\n",
       "    </tr>\n",
       "    <tr>\n",
       "      <th>554</th>\n",
       "      <td>1903</td>\n",
       "      <td>2023-04-20</td>\n",
       "      <td>1690</td>\n",
       "      <td>170</td>\n",
       "      <td>NaN</td>\n",
       "      <td>NaN</td>\n",
       "      <td>725748</td>\n",
       "      <td>36</td>\n",
       "      <td>20159.66</td>\n",
       "      <td>6</td>\n",
       "    </tr>\n",
       "    <tr>\n",
       "      <th>2611</th>\n",
       "      <td>6018</td>\n",
       "      <td>2023-05-02</td>\n",
       "      <td>5386</td>\n",
       "      <td>170</td>\n",
       "      <td>NaN</td>\n",
       "      <td>NaN</td>\n",
       "      <td>18479</td>\n",
       "      <td>1</td>\n",
       "      <td>18478.99</td>\n",
       "      <td>1</td>\n",
       "    </tr>\n",
       "  </tbody>\n",
       "</table>\n",
       "</div>"
      ],
      "text/plain": [
       "      NumeroOrden      Fecha  Identificacion  idProducto  Categoria Marca  \\\n",
       "445          1806 2023-04-17            1601         170        NaN   NaN   \n",
       "497          1852 2023-04-18            1643         170        NaN   NaN   \n",
       "554          1903 2023-04-20            1690         170        NaN   NaN   \n",
       "2611         6018 2023-05-02            5386         170        NaN   NaN   \n",
       "\n",
       "      ValorTotalOrden  CantidadTotalOrden  PrecioUnitario  Cantidad  \n",
       "445            322556                  16        20159.66         4  \n",
       "497            725748                  36        20159.66         6  \n",
       "554            725748                  36        20159.66         6  \n",
       "2611            18479                   1        18478.99         1  "
      ]
     },
     "execution_count": 7,
     "metadata": {},
     "output_type": "execute_result"
    }
   ],
   "source": [
    "df_nan = df[df['Categoria'].isnull()]\n",
    "df_nan"
   ]
  },
  {
   "cell_type": "code",
   "execution_count": 8,
   "metadata": {},
   "outputs": [
    {
     "data": {
      "text/plain": [
       "1792531"
      ]
     },
     "execution_count": 8,
     "metadata": {},
     "output_type": "execute_result"
    }
   ],
   "source": [
    "df_nan['ValorTotalOrden'].sum()"
   ]
  },
  {
   "cell_type": "code",
   "execution_count": 9,
   "metadata": {},
   "outputs": [],
   "source": [
    "df.dropna(inplace=True)"
   ]
  },
  {
   "cell_type": "markdown",
   "metadata": {},
   "source": [
    "Cambiar la marca \"  \" por \"000\""
   ]
  },
  {
   "cell_type": "code",
   "execution_count": 10,
   "metadata": {},
   "outputs": [],
   "source": [
    "df['Marca'] = df['Marca'].replace('   ', '000')"
   ]
  },
  {
   "cell_type": "markdown",
   "metadata": {},
   "source": [
    "# **Ahora se identificarán los outliers**"
   ]
  },
  {
   "cell_type": "code",
   "execution_count": 11,
   "metadata": {},
   "outputs": [
    {
     "data": {
      "text/html": [
       "<div>\n",
       "<style scoped>\n",
       "    .dataframe tbody tr th:only-of-type {\n",
       "        vertical-align: middle;\n",
       "    }\n",
       "\n",
       "    .dataframe tbody tr th {\n",
       "        vertical-align: top;\n",
       "    }\n",
       "\n",
       "    .dataframe thead th {\n",
       "        text-align: right;\n",
       "    }\n",
       "</style>\n",
       "<table border=\"1\" class=\"dataframe\">\n",
       "  <thead>\n",
       "    <tr style=\"text-align: right;\">\n",
       "      <th></th>\n",
       "      <th>NumeroOrden</th>\n",
       "      <th>Identificacion</th>\n",
       "      <th>idProducto</th>\n",
       "      <th>Categoria</th>\n",
       "      <th>ValorTotalOrden</th>\n",
       "      <th>CantidadTotalOrden</th>\n",
       "      <th>PrecioUnitario</th>\n",
       "      <th>Cantidad</th>\n",
       "    </tr>\n",
       "  </thead>\n",
       "  <tbody>\n",
       "    <tr>\n",
       "      <th>count</th>\n",
       "      <td>3296.000000</td>\n",
       "      <td>3296.000000</td>\n",
       "      <td>3296.000000</td>\n",
       "      <td>3296.000000</td>\n",
       "      <td>3.296000e+03</td>\n",
       "      <td>3296.000000</td>\n",
       "      <td>3296.000000</td>\n",
       "      <td>3296.000000</td>\n",
       "    </tr>\n",
       "    <tr>\n",
       "      <th>mean</th>\n",
       "      <td>2994.003944</td>\n",
       "      <td>2592.028823</td>\n",
       "      <td>187.137743</td>\n",
       "      <td>4.208738</td>\n",
       "      <td>1.457846e+05</td>\n",
       "      <td>3.276396</td>\n",
       "      <td>52294.296826</td>\n",
       "      <td>1.267294</td>\n",
       "    </tr>\n",
       "    <tr>\n",
       "      <th>std</th>\n",
       "      <td>1093.284458</td>\n",
       "      <td>1052.634215</td>\n",
       "      <td>179.554555</td>\n",
       "      <td>16.000099</td>\n",
       "      <td>3.519569e+05</td>\n",
       "      <td>11.103093</td>\n",
       "      <td>28084.341926</td>\n",
       "      <td>0.835029</td>\n",
       "    </tr>\n",
       "    <tr>\n",
       "      <th>min</th>\n",
       "      <td>12.000000</td>\n",
       "      <td>10.000000</td>\n",
       "      <td>1.000000</td>\n",
       "      <td>1.000000</td>\n",
       "      <td>7.555000e+03</td>\n",
       "      <td>1.000000</td>\n",
       "      <td>0.000000</td>\n",
       "      <td>1.000000</td>\n",
       "    </tr>\n",
       "    <tr>\n",
       "      <th>25%</th>\n",
       "      <td>2134.750000</td>\n",
       "      <td>1831.750000</td>\n",
       "      <td>45.000000</td>\n",
       "      <td>1.000000</td>\n",
       "      <td>5.577425e+04</td>\n",
       "      <td>1.000000</td>\n",
       "      <td>33605.040000</td>\n",
       "      <td>1.000000</td>\n",
       "    </tr>\n",
       "    <tr>\n",
       "      <th>50%</th>\n",
       "      <td>2781.500000</td>\n",
       "      <td>2469.500000</td>\n",
       "      <td>123.000000</td>\n",
       "      <td>1.000000</td>\n",
       "      <td>8.065950e+04</td>\n",
       "      <td>2.000000</td>\n",
       "      <td>52092.440000</td>\n",
       "      <td>1.000000</td>\n",
       "    </tr>\n",
       "    <tr>\n",
       "      <th>75%</th>\n",
       "      <td>3833.250000</td>\n",
       "      <td>3370.750000</td>\n",
       "      <td>262.250000</td>\n",
       "      <td>2.000000</td>\n",
       "      <td>1.545880e+05</td>\n",
       "      <td>3.000000</td>\n",
       "      <td>72184.870000</td>\n",
       "      <td>1.000000</td>\n",
       "    </tr>\n",
       "    <tr>\n",
       "      <th>max</th>\n",
       "      <td>6025.000000</td>\n",
       "      <td>5391.000000</td>\n",
       "      <td>749.000000</td>\n",
       "      <td>99.000000</td>\n",
       "      <td>1.209748e+07</td>\n",
       "      <td>420.000000</td>\n",
       "      <td>185705.880000</td>\n",
       "      <td>20.000000</td>\n",
       "    </tr>\n",
       "  </tbody>\n",
       "</table>\n",
       "</div>"
      ],
      "text/plain": [
       "       NumeroOrden  Identificacion   idProducto    Categoria  ValorTotalOrden  \\\n",
       "count  3296.000000     3296.000000  3296.000000  3296.000000     3.296000e+03   \n",
       "mean   2994.003944     2592.028823   187.137743     4.208738     1.457846e+05   \n",
       "std    1093.284458     1052.634215   179.554555    16.000099     3.519569e+05   \n",
       "min      12.000000       10.000000     1.000000     1.000000     7.555000e+03   \n",
       "25%    2134.750000     1831.750000    45.000000     1.000000     5.577425e+04   \n",
       "50%    2781.500000     2469.500000   123.000000     1.000000     8.065950e+04   \n",
       "75%    3833.250000     3370.750000   262.250000     2.000000     1.545880e+05   \n",
       "max    6025.000000     5391.000000   749.000000    99.000000     1.209748e+07   \n",
       "\n",
       "       CantidadTotalOrden  PrecioUnitario     Cantidad  \n",
       "count         3296.000000     3296.000000  3296.000000  \n",
       "mean             3.276396    52294.296826     1.267294  \n",
       "std             11.103093    28084.341926     0.835029  \n",
       "min              1.000000        0.000000     1.000000  \n",
       "25%              1.000000    33605.040000     1.000000  \n",
       "50%              2.000000    52092.440000     1.000000  \n",
       "75%              3.000000    72184.870000     1.000000  \n",
       "max            420.000000   185705.880000    20.000000  "
      ]
     },
     "execution_count": 11,
     "metadata": {},
     "output_type": "execute_result"
    }
   ],
   "source": [
    "df.describe()"
   ]
  },
  {
   "cell_type": "code",
   "execution_count": 12,
   "metadata": {},
   "outputs": [],
   "source": [
    "columnas_numericas = ['ValorTotalOrden', 'CantidadTotalOrden', 'PrecioUnitario', 'Cantidad']"
   ]
  },
  {
   "cell_type": "code",
   "execution_count": 13,
   "metadata": {},
   "outputs": [
    {
     "data": {
      "image/png": "[encoded data removed]",
      "text/plain": [
       "<Figure size 1000x600 with 1 Axes>"
      ]
     },
     "metadata": {},
     "output_type": "display_data"
    }
   ],
   "source": [
    "\n",
    "sns.set(style=\"whitegrid\")\n",
    "plt.figure(figsize=(10, 6))\n",
    "sns.boxplot(data=df[columnas_numericas], palette=\"muted\")\n",
    "plt.title('Diagrama de Cajas')\n",
    "plt.ylabel('Valores')\n",
    "plt.xticks(rotation=45)\n",
    "plt.tight_layout()\n",
    "plt.show()"
   ]
  },
  {
   "cell_type": "markdown",
   "metadata": {},
   "source": [
    "Para el diagrama de cajas se ven outliers para el valor total orden."
   ]
  },
  {
   "cell_type": "markdown",
   "metadata": {},
   "source": [
    "# **Agrupación por categoria y marca**"
   ]
  },
  {
   "cell_type": "markdown",
   "metadata": {},
   "source": [
    "Calcular las ventas totales y las unidades totales vendidas para cada \n",
    "categoría y cada marca"
   ]
  },
  {
   "cell_type": "code",
   "execution_count": 14,
   "metadata": {},
   "outputs": [],
   "source": [
    "df_marca= df.groupby(\"Marca\", as_index=False)[['PrecioUnitario', 'ValorTotalOrden', 'CantidadTotalOrden', 'Cantidad']].sum()\n",
    "df_marca.sort_values('ValorTotalOrden', ascending=False, inplace=True)"
   ]
  },
  {
   "cell_type": "code",
   "execution_count": 15,
   "metadata": {},
   "outputs": [
    {
     "data": {
      "text/html": [
       "<div>\n",
       "<style scoped>\n",
       "    .dataframe tbody tr th:only-of-type {\n",
       "        vertical-align: middle;\n",
       "    }\n",
       "\n",
       "    .dataframe tbody tr th {\n",
       "        vertical-align: top;\n",
       "    }\n",
       "\n",
       "    .dataframe thead th {\n",
       "        text-align: right;\n",
       "    }\n",
       "</style>\n",
       "<table border=\"1\" class=\"dataframe\">\n",
       "  <thead>\n",
       "    <tr style=\"text-align: right;\">\n",
       "      <th></th>\n",
       "      <th>Marca</th>\n",
       "      <th>PrecioUnitario</th>\n",
       "      <th>ValorTotalOrden</th>\n",
       "      <th>CantidadTotalOrden</th>\n",
       "      <th>Cantidad</th>\n",
       "    </tr>\n",
       "  </thead>\n",
       "  <tbody>\n",
       "    <tr>\n",
       "      <th>1</th>\n",
       "      <td>001</td>\n",
       "      <td>61155403.87</td>\n",
       "      <td>163813318</td>\n",
       "      <td>3238</td>\n",
       "      <td>1217</td>\n",
       "    </tr>\n",
       "    <tr>\n",
       "      <th>10</th>\n",
       "      <td>031</td>\n",
       "      <td>20161133.97</td>\n",
       "      <td>53181222</td>\n",
       "      <td>1064</td>\n",
       "      <td>439</td>\n",
       "    </tr>\n",
       "    <tr>\n",
       "      <th>4</th>\n",
       "      <td>007</td>\n",
       "      <td>16495848.75</td>\n",
       "      <td>49916195</td>\n",
       "      <td>1373</td>\n",
       "      <td>531</td>\n",
       "    </tr>\n",
       "    <tr>\n",
       "      <th>5</th>\n",
       "      <td>019</td>\n",
       "      <td>17035050.37</td>\n",
       "      <td>40180117</td>\n",
       "      <td>668</td>\n",
       "      <td>279</td>\n",
       "    </tr>\n",
       "    <tr>\n",
       "      <th>0</th>\n",
       "      <td>000</td>\n",
       "      <td>5308595.79</td>\n",
       "      <td>37566371</td>\n",
       "      <td>1162</td>\n",
       "      <td>406</td>\n",
       "    </tr>\n",
       "  </tbody>\n",
       "</table>\n",
       "</div>"
      ],
      "text/plain": [
       "   Marca  PrecioUnitario  ValorTotalOrden  CantidadTotalOrden  Cantidad\n",
       "1    001     61155403.87        163813318                3238      1217\n",
       "10   031     20161133.97         53181222                1064       439\n",
       "4    007     16495848.75         49916195                1373       531\n",
       "5    019     17035050.37         40180117                 668       279\n",
       "0    000      5308595.79         37566371                1162       406"
      ]
     },
     "execution_count": 15,
     "metadata": {},
     "output_type": "execute_result"
    }
   ],
   "source": [
    "df_marca.head()"
   ]
  },
  {
   "cell_type": "code",
   "execution_count": 16,
   "metadata": {},
   "outputs": [],
   "source": [
    "df_category = df.groupby(\"Categoria\", as_index=False)[['PrecioUnitario', 'ValorTotalOrden', 'CantidadTotalOrden', 'Cantidad']].sum()\n",
    "df_category.sort_values('ValorTotalOrden', ascending=False, inplace=True)"
   ]
  },
  {
   "cell_type": "code",
   "execution_count": 17,
   "metadata": {},
   "outputs": [
    {
     "data": {
      "text/html": [
       "<div>\n",
       "<style scoped>\n",
       "    .dataframe tbody tr th:only-of-type {\n",
       "        vertical-align: middle;\n",
       "    }\n",
       "\n",
       "    .dataframe tbody tr th {\n",
       "        vertical-align: top;\n",
       "    }\n",
       "\n",
       "    .dataframe thead th {\n",
       "        text-align: right;\n",
       "    }\n",
       "</style>\n",
       "<table border=\"1\" class=\"dataframe\">\n",
       "  <thead>\n",
       "    <tr style=\"text-align: right;\">\n",
       "      <th></th>\n",
       "      <th>Categoria</th>\n",
       "      <th>PrecioUnitario</th>\n",
       "      <th>ValorTotalOrden</th>\n",
       "      <th>CantidadTotalOrden</th>\n",
       "      <th>Cantidad</th>\n",
       "    </tr>\n",
       "  </thead>\n",
       "  <tbody>\n",
       "    <tr>\n",
       "      <th>0</th>\n",
       "      <td>1.0</td>\n",
       "      <td>1.283242e+08</td>\n",
       "      <td>343544372</td>\n",
       "      <td>7709</td>\n",
       "      <td>3043</td>\n",
       "    </tr>\n",
       "    <tr>\n",
       "      <th>1</th>\n",
       "      <td>2.0</td>\n",
       "      <td>1.843645e+07</td>\n",
       "      <td>47246632</td>\n",
       "      <td>803</td>\n",
       "      <td>326</td>\n",
       "    </tr>\n",
       "    <tr>\n",
       "      <th>2</th>\n",
       "      <td>3.0</td>\n",
       "      <td>1.365529e+07</td>\n",
       "      <td>37680227</td>\n",
       "      <td>858</td>\n",
       "      <td>431</td>\n",
       "    </tr>\n",
       "    <tr>\n",
       "      <th>3</th>\n",
       "      <td>4.0</td>\n",
       "      <td>8.650222e+06</td>\n",
       "      <td>29113318</td>\n",
       "      <td>777</td>\n",
       "      <td>210</td>\n",
       "    </tr>\n",
       "    <tr>\n",
       "      <th>5</th>\n",
       "      <td>99.0</td>\n",
       "      <td>3.275706e+06</td>\n",
       "      <td>22901494</td>\n",
       "      <td>651</td>\n",
       "      <td>166</td>\n",
       "    </tr>\n",
       "    <tr>\n",
       "      <th>4</th>\n",
       "      <td>5.0</td>\n",
       "      <td>2.015966e+04</td>\n",
       "      <td>20160</td>\n",
       "      <td>1</td>\n",
       "      <td>1</td>\n",
       "    </tr>\n",
       "  </tbody>\n",
       "</table>\n",
       "</div>"
      ],
      "text/plain": [
       "   Categoria  PrecioUnitario  ValorTotalOrden  CantidadTotalOrden  Cantidad\n",
       "0        1.0    1.283242e+08        343544372                7709      3043\n",
       "1        2.0    1.843645e+07         47246632                 803       326\n",
       "2        3.0    1.365529e+07         37680227                 858       431\n",
       "3        4.0    8.650222e+06         29113318                 777       210\n",
       "5       99.0    3.275706e+06         22901494                 651       166\n",
       "4        5.0    2.015966e+04            20160                   1         1"
      ]
     },
     "execution_count": 17,
     "metadata": {},
     "output_type": "execute_result"
    }
   ],
   "source": [
    "df_category"
   ]
  },
  {
   "cell_type": "markdown",
   "metadata": {},
   "source": [
    "Calcular el precio promedio para cada categoría"
   ]
  },
  {
   "cell_type": "code",
   "execution_count": 18,
   "metadata": {},
   "outputs": [],
   "source": [
    "df_category_mean = df.groupby(\"Categoria\", as_index=False)['PrecioUnitario'].mean()\n",
    "df_category_mean.sort_values('PrecioUnitario', ascending=False, inplace=True)"
   ]
  },
  {
   "cell_type": "code",
   "execution_count": 19,
   "metadata": {},
   "outputs": [
    {
     "data": {
      "text/html": [
       "<div>\n",
       "<style scoped>\n",
       "    .dataframe tbody tr th:only-of-type {\n",
       "        vertical-align: middle;\n",
       "    }\n",
       "\n",
       "    .dataframe tbody tr th {\n",
       "        vertical-align: top;\n",
       "    }\n",
       "\n",
       "    .dataframe thead th {\n",
       "        text-align: right;\n",
       "    }\n",
       "</style>\n",
       "<table border=\"1\" class=\"dataframe\">\n",
       "  <thead>\n",
       "    <tr style=\"text-align: right;\">\n",
       "      <th></th>\n",
       "      <th>Categoria</th>\n",
       "      <th>PrecioUnitario</th>\n",
       "    </tr>\n",
       "  </thead>\n",
       "  <tbody>\n",
       "    <tr>\n",
       "      <th>1</th>\n",
       "      <td>2.0</td>\n",
       "      <td>57078.804025</td>\n",
       "    </tr>\n",
       "    <tr>\n",
       "      <th>0</th>\n",
       "      <td>1.0</td>\n",
       "      <td>55817.384950</td>\n",
       "    </tr>\n",
       "    <tr>\n",
       "      <th>3</th>\n",
       "      <td>4.0</td>\n",
       "      <td>51797.736228</td>\n",
       "    </tr>\n",
       "    <tr>\n",
       "      <th>5</th>\n",
       "      <td>99.0</td>\n",
       "      <td>35996.765934</td>\n",
       "    </tr>\n",
       "    <tr>\n",
       "      <th>2</th>\n",
       "      <td>3.0</td>\n",
       "      <td>32904.321277</td>\n",
       "    </tr>\n",
       "    <tr>\n",
       "      <th>4</th>\n",
       "      <td>5.0</td>\n",
       "      <td>20159.660000</td>\n",
       "    </tr>\n",
       "  </tbody>\n",
       "</table>\n",
       "</div>"
      ],
      "text/plain": [
       "   Categoria  PrecioUnitario\n",
       "1        2.0    57078.804025\n",
       "0        1.0    55817.384950\n",
       "3        4.0    51797.736228\n",
       "5       99.0    35996.765934\n",
       "2        3.0    32904.321277\n",
       "4        5.0    20159.660000"
      ]
     },
     "execution_count": 19,
     "metadata": {},
     "output_type": "execute_result"
    }
   ],
   "source": [
    "df_category_mean"
   ]
  },
  {
   "cell_type": "code",
   "execution_count": 20,
   "metadata": {},
   "outputs": [],
   "source": [
    "df_producto = df.groupby(\"idProducto\", as_index=False)[['PrecioUnitario', 'ValorTotalOrden', 'CantidadTotalOrden', 'Cantidad']].sum()\n",
    "df_producto.sort_values('ValorTotalOrden', ascending=False, inplace=True)"
   ]
  },
  {
   "cell_type": "code",
   "execution_count": 21,
   "metadata": {},
   "outputs": [
    {
     "data": {
      "text/html": [
       "<div>\n",
       "<style scoped>\n",
       "    .dataframe tbody tr th:only-of-type {\n",
       "        vertical-align: middle;\n",
       "    }\n",
       "\n",
       "    .dataframe tbody tr th {\n",
       "        vertical-align: top;\n",
       "    }\n",
       "\n",
       "    .dataframe thead th {\n",
       "        text-align: right;\n",
       "    }\n",
       "</style>\n",
       "<table border=\"1\" class=\"dataframe\">\n",
       "  <thead>\n",
       "    <tr style=\"text-align: right;\">\n",
       "      <th></th>\n",
       "      <th>idProducto</th>\n",
       "      <th>PrecioUnitario</th>\n",
       "      <th>ValorTotalOrden</th>\n",
       "      <th>CantidadTotalOrden</th>\n",
       "      <th>Cantidad</th>\n",
       "    </tr>\n",
       "  </thead>\n",
       "  <tbody>\n",
       "    <tr>\n",
       "      <th>165</th>\n",
       "      <td>167</td>\n",
       "      <td>201630.24</td>\n",
       "      <td>18888380</td>\n",
       "      <td>409</td>\n",
       "      <td>91</td>\n",
       "    </tr>\n",
       "    <tr>\n",
       "      <th>324</th>\n",
       "      <td>455</td>\n",
       "      <td>2032890.09</td>\n",
       "      <td>14664877</td>\n",
       "      <td>511</td>\n",
       "      <td>240</td>\n",
       "    </tr>\n",
       "    <tr>\n",
       "      <th>78</th>\n",
       "      <td>79</td>\n",
       "      <td>443563.07</td>\n",
       "      <td>14027195</td>\n",
       "      <td>477</td>\n",
       "      <td>41</td>\n",
       "    </tr>\n",
       "    <tr>\n",
       "      <th>6</th>\n",
       "      <td>7</td>\n",
       "      <td>798092.42</td>\n",
       "      <td>12865234</td>\n",
       "      <td>460</td>\n",
       "      <td>67</td>\n",
       "    </tr>\n",
       "    <tr>\n",
       "      <th>37</th>\n",
       "      <td>38</td>\n",
       "      <td>2529050.59</td>\n",
       "      <td>9733872</td>\n",
       "      <td>190</td>\n",
       "      <td>69</td>\n",
       "    </tr>\n",
       "    <tr>\n",
       "      <th>...</th>\n",
       "      <td>...</td>\n",
       "      <td>...</td>\n",
       "      <td>...</td>\n",
       "      <td>...</td>\n",
       "      <td>...</td>\n",
       "    </tr>\n",
       "    <tr>\n",
       "      <th>388</th>\n",
       "      <td>584</td>\n",
       "      <td>27722.69</td>\n",
       "      <td>27723</td>\n",
       "      <td>1</td>\n",
       "      <td>1</td>\n",
       "    </tr>\n",
       "    <tr>\n",
       "      <th>247</th>\n",
       "      <td>259</td>\n",
       "      <td>20159.66</td>\n",
       "      <td>20160</td>\n",
       "      <td>1</td>\n",
       "      <td>1</td>\n",
       "    </tr>\n",
       "    <tr>\n",
       "      <th>343</th>\n",
       "      <td>479</td>\n",
       "      <td>17638.66</td>\n",
       "      <td>17639</td>\n",
       "      <td>1</td>\n",
       "      <td>1</td>\n",
       "    </tr>\n",
       "    <tr>\n",
       "      <th>421</th>\n",
       "      <td>660</td>\n",
       "      <td>15109.24</td>\n",
       "      <td>15110</td>\n",
       "      <td>2</td>\n",
       "      <td>2</td>\n",
       "    </tr>\n",
       "    <tr>\n",
       "      <th>453</th>\n",
       "      <td>727</td>\n",
       "      <td>14277.31</td>\n",
       "      <td>14277</td>\n",
       "      <td>1</td>\n",
       "      <td>1</td>\n",
       "    </tr>\n",
       "  </tbody>\n",
       "</table>\n",
       "<p>458 rows × 5 columns</p>\n",
       "</div>"
      ],
      "text/plain": [
       "     idProducto  PrecioUnitario  ValorTotalOrden  CantidadTotalOrden  Cantidad\n",
       "165         167       201630.24         18888380                 409        91\n",
       "324         455      2032890.09         14664877                 511       240\n",
       "78           79       443563.07         14027195                 477        41\n",
       "6             7       798092.42         12865234                 460        67\n",
       "37           38      2529050.59          9733872                 190        69\n",
       "..          ...             ...              ...                 ...       ...\n",
       "388         584        27722.69            27723                   1         1\n",
       "247         259        20159.66            20160                   1         1\n",
       "343         479        17638.66            17639                   1         1\n",
       "421         660        15109.24            15110                   2         2\n",
       "453         727        14277.31            14277                   1         1\n",
       "\n",
       "[458 rows x 5 columns]"
      ]
     },
     "execution_count": 21,
     "metadata": {},
     "output_type": "execute_result"
    }
   ],
   "source": [
    "df_producto"
   ]
  },
  {
   "cell_type": "markdown",
   "metadata": {},
   "source": [
    "# **Análisis EDA**"
   ]
  },
  {
   "cell_type": "markdown",
   "metadata": {},
   "source": [
    "Se agrupan las marcas por la media de precio unitario"
   ]
  },
  {
   "cell_type": "code",
   "execution_count": 22,
   "metadata": {},
   "outputs": [],
   "source": [
    "df_means = df.groupby(\"Marca\", as_index=False)['PrecioUnitario'].mean()\n",
    "df_means = df_means.sort_values('PrecioUnitario', ascending=False)"
   ]
  },
  {
   "cell_type": "code",
   "execution_count": 23,
   "metadata": {},
   "outputs": [
    {
     "data": {
      "text/plain": [
       "<Axes: xlabel='Marca', ylabel='PrecioUnitario'>"
      ]
     },
     "execution_count": 23,
     "metadata": {},
     "output_type": "execute_result"
    },
    {
     "data": {
      "image/png": "[encoded data removed]",
      "text/plain": [
       "<Figure size 1000x600 with 1 Axes>"
      ]
     },
     "metadata": {},
     "output_type": "display_data"
    }
   ],
   "source": [
    "plt.figure(figsize=(10,6))\n",
    "sns.barplot(x = 'Marca', y='PrecioUnitario', data = df_means )"
   ]
  },
  {
   "cell_type": "code",
   "execution_count": 24,
   "metadata": {},
   "outputs": [
    {
     "name": "stderr",
     "output_type": "stream",
     "text": [
      "c:\\Users\\USUARIO\\anaconda3\\Lib\\site-packages\\sklearn\\cluster\\_kmeans.py:870: FutureWarning: The default value of `n_init` will change from 10 to 'auto' in 1.4. Set the value of `n_init` explicitly to suppress the warning\n",
      "  warnings.warn(\n"
     ]
    },
    {
     "data": {
      "text/plain": [
       "<matplotlib.collections.PathCollection at 0x1d5646f2750>"
      ]
     },
     "execution_count": 24,
     "metadata": {},
     "output_type": "execute_result"
    },
    {
     "data": {
      "image/png": "[encoded data removed]",
      "text/plain": [
       "<Figure size 640x480 with 1 Axes>"
      ]
     },
     "metadata": {},
     "output_type": "display_data"
    }
   ],
   "source": [
    "k_means = KMeans(n_clusters=5)\n",
    "df['PrecioUnitarioCluster'] = k_means.fit_predict(df[['PrecioUnitario']])\n",
    "plt.scatter(df['PrecioUnitario'],[0]*len(df),c=df['PrecioUnitarioCluster'],cmap='rainbow')"
   ]
  },
  {
   "cell_type": "code",
   "execution_count": 25,
   "metadata": {},
   "outputs": [],
   "source": [
    "df_aux = df[df['CantidadTotalOrden'] <=4]"
   ]
  },
  {
   "cell_type": "code",
   "execution_count": 26,
   "metadata": {},
   "outputs": [
    {
     "name": "stderr",
     "output_type": "stream",
     "text": [
      "C:\\Users\\USUARIO\\AppData\\Local\\Temp\\ipykernel_32120\\1176787606.py:1: UserWarning: No data for colormapping provided via 'c'. Parameters 'cmap' will be ignored\n",
      "  plt.scatter(df_aux['CantidadTotalOrden'],df_aux['PrecioUnitario'],cmap='rainbow')\n"
     ]
    },
    {
     "data": {
      "text/plain": [
       "<matplotlib.collections.PathCollection at 0x1d56483e9d0>"
      ]
     },
     "execution_count": 26,
     "metadata": {},
     "output_type": "execute_result"
    },
    {
     "data": {
      "image/png": "[encoded data removed]",
      "text/plain": [
       "<Figure size 640x480 with 1 Axes>"
      ]
     },
     "metadata": {},
     "output_type": "display_data"
    }
   ],
   "source": [
    "plt.scatter(df_aux['CantidadTotalOrden'],df_aux['PrecioUnitario'],cmap='rainbow')"
   ]
  },
  {
   "cell_type": "code",
   "execution_count": 27,
   "metadata": {},
   "outputs": [
    {
     "data": {
      "text/plain": [
       "<matplotlib.collections.PathCollection at 0x1d564689050>"
      ]
     },
     "execution_count": 27,
     "metadata": {},
     "output_type": "execute_result"
    },
    {
     "data": {
      "image/png": "[encoded data removed]",
      "text/plain": [
       "<Figure size 640x480 with 1 Axes>"
      ]
     },
     "metadata": {},
     "output_type": "display_data"
    }
   ],
   "source": [
    "plt.scatter(df['ValorTotalOrden'],df['PrecioUnitario'],c=df['PrecioUnitarioCluster'],cmap='rainbow')"
   ]
  },
  {
   "cell_type": "markdown",
   "metadata": {},
   "source": [
    "# **Modelo RFM**"
   ]
  },
  {
   "cell_type": "markdown",
   "metadata": {},
   "source": [
    "Para este modelo se calcula Recency: Que tan recientemente el cliente ha realizado una compra,\n",
    "Frecuencia: La frecuencia de compra del cliente. Monetary: El importe total gastado por el cliente, en un tiempo determinado. "
   ]
  },
  {
   "cell_type": "code",
   "execution_count": 28,
   "metadata": {},
   "outputs": [],
   "source": [
    "def calcular_rfm(df):\n",
    "    \n",
    "    \"\"\"\n",
    "    Calcula las métricas RFM (Recency, Frequency, Monetary) \n",
    "\n",
    "    Args:\n",
    "    df: El DataFrame \n",
    "\n",
    "    Returns:\n",
    "    pd.DataFrame: Un DataFrame que contiene las métricas RFM para cada cliente.\n",
    "\n",
    "    La métrica de monetary se hace con la suma del valor total de la orden por cliente,\n",
    "    teniendo en cuenta el rango de fechas presentes en los datos, y dividiendo este valor\n",
    "    por el número de días.\n",
    "    \n",
    "    \"\"\"\n",
    "    df_ = df.copy()\n",
    "    today = datetime.now()\n",
    "\n",
    "    recency = df_.groupby('Identificacion')['Fecha'].max().reset_index()\n",
    "    recency.columns = ['Identificacion', 'FechaUltimaTransaccion']\n",
    "    recency['Recency'] = (today - recency['FechaUltimaTransaccion']).dt.days\n",
    "\n",
    "    rango_fechas = (recency['FechaUltimaTransaccion'].max() - recency['FechaUltimaTransaccion'].min()).days\n",
    "\n",
    "    frecuencia = df_.groupby('Identificacion')['Fecha'].count().reset_index()\n",
    "    frecuencia.columns = ['Identificacion', 'Frecuencia']\n",
    "\n",
    "    valor_monetario = df_.groupby('Identificacion')['ValorTotalOrden'].sum().reset_index()\n",
    "    valor_monetario.columns = ['Identificacion', 'ValorMonetario']\n",
    "\n",
    "    rfm_dataframe = pd.merge(recency, frecuencia, on='Identificacion')\n",
    "    rfm_dataframe = pd.merge(rfm_dataframe, valor_monetario, on='Identificacion')\n",
    "\n",
    "    rfm_dataframe['Monetary'] = rfm_dataframe['ValorMonetario'] / rango_fechas\n",
    "\n",
    "    rfm_dataframe['RecenciaScore'] = pd.qcut(rfm_dataframe['Recency'], q=4, duplicates='drop')\n",
    "    rfm_dataframe['FrecuenciaScore'] = pd.qcut(rfm_dataframe['Frecuencia'], q=4, duplicates='drop')\n",
    "    rfm_dataframe['ValorMonetarioScore'] = pd.qcut(rfm_dataframe['Monetary'], q=4, duplicates='drop')\n",
    "\n",
    "    rfm_dataframe['RecenciaScore'] = rfm_dataframe['RecenciaScore'].cat.codes + 1\n",
    "    rfm_dataframe['FrecuenciaScore'] = rfm_dataframe['FrecuenciaScore'].cat.codes + 1\n",
    "    rfm_dataframe['ValorMonetarioScore'] = rfm_dataframe['ValorMonetarioScore'].cat.codes + 1\n",
    "\n",
    "    rfm_dataframe['RFM'] = rfm_dataframe['RecenciaScore'] + rfm_dataframe['FrecuenciaScore'] + rfm_dataframe['ValorMonetarioScore']\n",
    "\n",
    "    return rfm_dataframe\n",
    "\n"
   ]
  },
  {
   "cell_type": "code",
   "execution_count": 29,
   "metadata": {},
   "outputs": [],
   "source": [
    "df_rfm = calcular_rfm(df)"
   ]
  },
  {
   "cell_type": "code",
   "execution_count": 30,
   "metadata": {},
   "outputs": [
    {
     "data": {
      "text/html": [
       "<div>\n",
       "<style scoped>\n",
       "    .dataframe tbody tr th:only-of-type {\n",
       "        vertical-align: middle;\n",
       "    }\n",
       "\n",
       "    .dataframe tbody tr th {\n",
       "        vertical-align: top;\n",
       "    }\n",
       "\n",
       "    .dataframe thead th {\n",
       "        text-align: right;\n",
       "    }\n",
       "</style>\n",
       "<table border=\"1\" class=\"dataframe\">\n",
       "  <thead>\n",
       "    <tr style=\"text-align: right;\">\n",
       "      <th></th>\n",
       "      <th>Identificacion</th>\n",
       "      <th>FechaUltimaTransaccion</th>\n",
       "      <th>Recency</th>\n",
       "      <th>Frecuencia</th>\n",
       "      <th>ValorMonetario</th>\n",
       "      <th>Monetary</th>\n",
       "      <th>RecenciaScore</th>\n",
       "      <th>FrecuenciaScore</th>\n",
       "      <th>ValorMonetarioScore</th>\n",
       "      <th>RFM</th>\n",
       "    </tr>\n",
       "  </thead>\n",
       "  <tbody>\n",
       "    <tr>\n",
       "      <th>0</th>\n",
       "      <td>10</td>\n",
       "      <td>2023-04-01</td>\n",
       "      <td>144</td>\n",
       "      <td>1</td>\n",
       "      <td>83185</td>\n",
       "      <td>1459.385965</td>\n",
       "      <td>4</td>\n",
       "      <td>1</td>\n",
       "      <td>2</td>\n",
       "      <td>7</td>\n",
       "    </tr>\n",
       "    <tr>\n",
       "      <th>1</th>\n",
       "      <td>11</td>\n",
       "      <td>2023-04-08</td>\n",
       "      <td>137</td>\n",
       "      <td>2</td>\n",
       "      <td>292404</td>\n",
       "      <td>5129.894737</td>\n",
       "      <td>4</td>\n",
       "      <td>1</td>\n",
       "      <td>4</td>\n",
       "      <td>9</td>\n",
       "    </tr>\n",
       "    <tr>\n",
       "      <th>2</th>\n",
       "      <td>12</td>\n",
       "      <td>2023-04-16</td>\n",
       "      <td>129</td>\n",
       "      <td>1</td>\n",
       "      <td>53773</td>\n",
       "      <td>943.385965</td>\n",
       "      <td>4</td>\n",
       "      <td>1</td>\n",
       "      <td>1</td>\n",
       "      <td>6</td>\n",
       "    </tr>\n",
       "    <tr>\n",
       "      <th>3</th>\n",
       "      <td>13</td>\n",
       "      <td>2023-04-24</td>\n",
       "      <td>121</td>\n",
       "      <td>1</td>\n",
       "      <td>45370</td>\n",
       "      <td>795.964912</td>\n",
       "      <td>3</td>\n",
       "      <td>1</td>\n",
       "      <td>1</td>\n",
       "      <td>5</td>\n",
       "    </tr>\n",
       "    <tr>\n",
       "      <th>4</th>\n",
       "      <td>14</td>\n",
       "      <td>2023-04-28</td>\n",
       "      <td>117</td>\n",
       "      <td>1</td>\n",
       "      <td>75622</td>\n",
       "      <td>1326.701754</td>\n",
       "      <td>3</td>\n",
       "      <td>1</td>\n",
       "      <td>2</td>\n",
       "      <td>6</td>\n",
       "    </tr>\n",
       "    <tr>\n",
       "      <th>...</th>\n",
       "      <td>...</td>\n",
       "      <td>...</td>\n",
       "      <td>...</td>\n",
       "      <td>...</td>\n",
       "      <td>...</td>\n",
       "      <td>...</td>\n",
       "      <td>...</td>\n",
       "      <td>...</td>\n",
       "      <td>...</td>\n",
       "      <td>...</td>\n",
       "    </tr>\n",
       "    <tr>\n",
       "      <th>2292</th>\n",
       "      <td>5384</td>\n",
       "      <td>2023-05-09</td>\n",
       "      <td>106</td>\n",
       "      <td>1</td>\n",
       "      <td>7555</td>\n",
       "      <td>132.543860</td>\n",
       "      <td>2</td>\n",
       "      <td>1</td>\n",
       "      <td>1</td>\n",
       "      <td>4</td>\n",
       "    </tr>\n",
       "    <tr>\n",
       "      <th>2293</th>\n",
       "      <td>5385</td>\n",
       "      <td>2023-05-13</td>\n",
       "      <td>102</td>\n",
       "      <td>1</td>\n",
       "      <td>7555</td>\n",
       "      <td>132.543860</td>\n",
       "      <td>1</td>\n",
       "      <td>1</td>\n",
       "      <td>1</td>\n",
       "      <td>3</td>\n",
       "    </tr>\n",
       "    <tr>\n",
       "      <th>2294</th>\n",
       "      <td>5389</td>\n",
       "      <td>2023-04-03</td>\n",
       "      <td>142</td>\n",
       "      <td>1</td>\n",
       "      <td>27723</td>\n",
       "      <td>486.368421</td>\n",
       "      <td>4</td>\n",
       "      <td>1</td>\n",
       "      <td>1</td>\n",
       "      <td>6</td>\n",
       "    </tr>\n",
       "    <tr>\n",
       "      <th>2295</th>\n",
       "      <td>5390</td>\n",
       "      <td>2023-04-03</td>\n",
       "      <td>142</td>\n",
       "      <td>1</td>\n",
       "      <td>30244</td>\n",
       "      <td>530.596491</td>\n",
       "      <td>4</td>\n",
       "      <td>1</td>\n",
       "      <td>1</td>\n",
       "      <td>6</td>\n",
       "    </tr>\n",
       "    <tr>\n",
       "      <th>2296</th>\n",
       "      <td>5391</td>\n",
       "      <td>2023-05-05</td>\n",
       "      <td>110</td>\n",
       "      <td>1</td>\n",
       "      <td>7555</td>\n",
       "      <td>132.543860</td>\n",
       "      <td>2</td>\n",
       "      <td>1</td>\n",
       "      <td>1</td>\n",
       "      <td>4</td>\n",
       "    </tr>\n",
       "  </tbody>\n",
       "</table>\n",
       "<p>2297 rows × 10 columns</p>\n",
       "</div>"
      ],
      "text/plain": [
       "      Identificacion FechaUltimaTransaccion  Recency  Frecuencia  \\\n",
       "0                 10             2023-04-01      144           1   \n",
       "1                 11             2023-04-08      137           2   \n",
       "2                 12             2023-04-16      129           1   \n",
       "3                 13             2023-04-24      121           1   \n",
       "4                 14             2023-04-28      117           1   \n",
       "...              ...                    ...      ...         ...   \n",
       "2292            5384             2023-05-09      106           1   \n",
       "2293            5385             2023-05-13      102           1   \n",
       "2294            5389             2023-04-03      142           1   \n",
       "2295            5390             2023-04-03      142           1   \n",
       "2296            5391             2023-05-05      110           1   \n",
       "\n",
       "      ValorMonetario     Monetary  RecenciaScore  FrecuenciaScore  \\\n",
       "0              83185  1459.385965              4                1   \n",
       "1             292404  5129.894737              4                1   \n",
       "2              53773   943.385965              4                1   \n",
       "3              45370   795.964912              3                1   \n",
       "4              75622  1326.701754              3                1   \n",
       "...              ...          ...            ...              ...   \n",
       "2292            7555   132.543860              2                1   \n",
       "2293            7555   132.543860              1                1   \n",
       "2294           27723   486.368421              4                1   \n",
       "2295           30244   530.596491              4                1   \n",
       "2296            7555   132.543860              2                1   \n",
       "\n",
       "      ValorMonetarioScore  RFM  \n",
       "0                       2    7  \n",
       "1                       4    9  \n",
       "2                       1    6  \n",
       "3                       1    5  \n",
       "4                       2    6  \n",
       "...                   ...  ...  \n",
       "2292                    1    4  \n",
       "2293                    1    3  \n",
       "2294                    1    6  \n",
       "2295                    1    6  \n",
       "2296                    1    4  \n",
       "\n",
       "[2297 rows x 10 columns]"
      ]
     },
     "execution_count": 30,
     "metadata": {},
     "output_type": "execute_result"
    }
   ],
   "source": [
    "df_rfm"
   ]
  },
  {
   "cell_type": "code",
   "execution_count": 37,
   "metadata": {},
   "outputs": [],
   "source": [
    "df_rfm['Mes'] = df_rfm['FechaUltimaTransaccion'].dt.month"
   ]
  },
  {
   "cell_type": "markdown",
   "metadata": {},
   "source": [
    "# **Ingestión bases de datos en SQLite3 para conexión en Power BI**"
   ]
  },
  {
   "cell_type": "code",
   "execution_count": 31,
   "metadata": {},
   "outputs": [],
   "source": [
    "def ingestar_datos(df, BD = 'BaseGPX.bd', Tabla = 'Rutas'):\n",
    "    conn = sqlite3.connect(BD)\n",
    "    df.to_sql(Tabla, conn, if_exists='replace', index = False)\n",
    "    df_consulta = pd.read_sql(f'SELECT * FROM {Tabla}', conn)\n",
    "    conn.close()\n",
    "    return df_consulta"
   ]
  },
  {
   "cell_type": "code",
   "execution_count": 40,
   "metadata": {},
   "outputs": [
    {
     "data": {
      "text/html": [
       "<div>\n",
       "<style scoped>\n",
       "    .dataframe tbody tr th:only-of-type {\n",
       "        vertical-align: middle;\n",
       "    }\n",
       "\n",
       "    .dataframe tbody tr th {\n",
       "        vertical-align: top;\n",
       "    }\n",
       "\n",
       "    .dataframe thead th {\n",
       "        text-align: right;\n",
       "    }\n",
       "</style>\n",
       "<table border=\"1\" class=\"dataframe\">\n",
       "  <thead>\n",
       "    <tr style=\"text-align: right;\">\n",
       "      <th></th>\n",
       "      <th>Identificacion</th>\n",
       "      <th>FechaUltimaTransaccion</th>\n",
       "      <th>Recency</th>\n",
       "      <th>Frecuencia</th>\n",
       "      <th>ValorMonetario</th>\n",
       "      <th>Monetary</th>\n",
       "      <th>RecenciaScore</th>\n",
       "      <th>FrecuenciaScore</th>\n",
       "      <th>ValorMonetarioScore</th>\n",
       "      <th>RFM</th>\n",
       "      <th>Mes</th>\n",
       "    </tr>\n",
       "  </thead>\n",
       "  <tbody>\n",
       "    <tr>\n",
       "      <th>0</th>\n",
       "      <td>10</td>\n",
       "      <td>2023-04-01 00:00:00</td>\n",
       "      <td>144</td>\n",
       "      <td>1</td>\n",
       "      <td>83185</td>\n",
       "      <td>1459.385965</td>\n",
       "      <td>4</td>\n",
       "      <td>1</td>\n",
       "      <td>2</td>\n",
       "      <td>7</td>\n",
       "      <td>4</td>\n",
       "    </tr>\n",
       "    <tr>\n",
       "      <th>1</th>\n",
       "      <td>11</td>\n",
       "      <td>2023-04-08 00:00:00</td>\n",
       "      <td>137</td>\n",
       "      <td>2</td>\n",
       "      <td>292404</td>\n",
       "      <td>5129.894737</td>\n",
       "      <td>4</td>\n",
       "      <td>1</td>\n",
       "      <td>4</td>\n",
       "      <td>9</td>\n",
       "      <td>4</td>\n",
       "    </tr>\n",
       "    <tr>\n",
       "      <th>2</th>\n",
       "      <td>12</td>\n",
       "      <td>2023-04-16 00:00:00</td>\n",
       "      <td>129</td>\n",
       "      <td>1</td>\n",
       "      <td>53773</td>\n",
       "      <td>943.385965</td>\n",
       "      <td>4</td>\n",
       "      <td>1</td>\n",
       "      <td>1</td>\n",
       "      <td>6</td>\n",
       "      <td>4</td>\n",
       "    </tr>\n",
       "    <tr>\n",
       "      <th>3</th>\n",
       "      <td>13</td>\n",
       "      <td>2023-04-24 00:00:00</td>\n",
       "      <td>121</td>\n",
       "      <td>1</td>\n",
       "      <td>45370</td>\n",
       "      <td>795.964912</td>\n",
       "      <td>3</td>\n",
       "      <td>1</td>\n",
       "      <td>1</td>\n",
       "      <td>5</td>\n",
       "      <td>4</td>\n",
       "    </tr>\n",
       "    <tr>\n",
       "      <th>4</th>\n",
       "      <td>14</td>\n",
       "      <td>2023-04-28 00:00:00</td>\n",
       "      <td>117</td>\n",
       "      <td>1</td>\n",
       "      <td>75622</td>\n",
       "      <td>1326.701754</td>\n",
       "      <td>3</td>\n",
       "      <td>1</td>\n",
       "      <td>2</td>\n",
       "      <td>6</td>\n",
       "      <td>4</td>\n",
       "    </tr>\n",
       "    <tr>\n",
       "      <th>...</th>\n",
       "      <td>...</td>\n",
       "      <td>...</td>\n",
       "      <td>...</td>\n",
       "      <td>...</td>\n",
       "      <td>...</td>\n",
       "      <td>...</td>\n",
       "      <td>...</td>\n",
       "      <td>...</td>\n",
       "      <td>...</td>\n",
       "      <td>...</td>\n",
       "      <td>...</td>\n",
       "    </tr>\n",
       "    <tr>\n",
       "      <th>2292</th>\n",
       "      <td>5384</td>\n",
       "      <td>2023-05-09 00:00:00</td>\n",
       "      <td>106</td>\n",
       "      <td>1</td>\n",
       "      <td>7555</td>\n",
       "      <td>132.543860</td>\n",
       "      <td>2</td>\n",
       "      <td>1</td>\n",
       "      <td>1</td>\n",
       "      <td>4</td>\n",
       "      <td>5</td>\n",
       "    </tr>\n",
       "    <tr>\n",
       "      <th>2293</th>\n",
       "      <td>5385</td>\n",
       "      <td>2023-05-13 00:00:00</td>\n",
       "      <td>102</td>\n",
       "      <td>1</td>\n",
       "      <td>7555</td>\n",
       "      <td>132.543860</td>\n",
       "      <td>1</td>\n",
       "      <td>1</td>\n",
       "      <td>1</td>\n",
       "      <td>3</td>\n",
       "      <td>5</td>\n",
       "    </tr>\n",
       "    <tr>\n",
       "      <th>2294</th>\n",
       "      <td>5389</td>\n",
       "      <td>2023-04-03 00:00:00</td>\n",
       "      <td>142</td>\n",
       "      <td>1</td>\n",
       "      <td>27723</td>\n",
       "      <td>486.368421</td>\n",
       "      <td>4</td>\n",
       "      <td>1</td>\n",
       "      <td>1</td>\n",
       "      <td>6</td>\n",
       "      <td>4</td>\n",
       "    </tr>\n",
       "    <tr>\n",
       "      <th>2295</th>\n",
       "      <td>5390</td>\n",
       "      <td>2023-04-03 00:00:00</td>\n",
       "      <td>142</td>\n",
       "      <td>1</td>\n",
       "      <td>30244</td>\n",
       "      <td>530.596491</td>\n",
       "      <td>4</td>\n",
       "      <td>1</td>\n",
       "      <td>1</td>\n",
       "      <td>6</td>\n",
       "      <td>4</td>\n",
       "    </tr>\n",
       "    <tr>\n",
       "      <th>2296</th>\n",
       "      <td>5391</td>\n",
       "      <td>2023-05-05 00:00:00</td>\n",
       "      <td>110</td>\n",
       "      <td>1</td>\n",
       "      <td>7555</td>\n",
       "      <td>132.543860</td>\n",
       "      <td>2</td>\n",
       "      <td>1</td>\n",
       "      <td>1</td>\n",
       "      <td>4</td>\n",
       "      <td>5</td>\n",
       "    </tr>\n",
       "  </tbody>\n",
       "</table>\n",
       "<p>2297 rows × 11 columns</p>\n",
       "</div>"
      ],
      "text/plain": [
       "      Identificacion FechaUltimaTransaccion  Recency  Frecuencia  \\\n",
       "0                 10    2023-04-01 00:00:00      144           1   \n",
       "1                 11    2023-04-08 00:00:00      137           2   \n",
       "2                 12    2023-04-16 00:00:00      129           1   \n",
       "3                 13    2023-04-24 00:00:00      121           1   \n",
       "4                 14    2023-04-28 00:00:00      117           1   \n",
       "...              ...                    ...      ...         ...   \n",
       "2292            5384    2023-05-09 00:00:00      106           1   \n",
       "2293            5385    2023-05-13 00:00:00      102           1   \n",
       "2294            5389    2023-04-03 00:00:00      142           1   \n",
       "2295            5390    2023-04-03 00:00:00      142           1   \n",
       "2296            5391    2023-05-05 00:00:00      110           1   \n",
       "\n",
       "      ValorMonetario     Monetary  RecenciaScore  FrecuenciaScore  \\\n",
       "0              83185  1459.385965              4                1   \n",
       "1             292404  5129.894737              4                1   \n",
       "2              53773   943.385965              4                1   \n",
       "3              45370   795.964912              3                1   \n",
       "4              75622  1326.701754              3                1   \n",
       "...              ...          ...            ...              ...   \n",
       "2292            7555   132.543860              2                1   \n",
       "2293            7555   132.543860              1                1   \n",
       "2294           27723   486.368421              4                1   \n",
       "2295           30244   530.596491              4                1   \n",
       "2296            7555   132.543860              2                1   \n",
       "\n",
       "      ValorMonetarioScore  RFM  Mes  \n",
       "0                       2    7    4  \n",
       "1                       4    9    4  \n",
       "2                       1    6    4  \n",
       "3                       1    5    4  \n",
       "4                       2    6    4  \n",
       "...                   ...  ...  ...  \n",
       "2292                    1    4    5  \n",
       "2293                    1    3    5  \n",
       "2294                    1    6    4  \n",
       "2295                    1    6    4  \n",
       "2296                    1    4    5  \n",
       "\n",
       "[2297 rows x 11 columns]"
      ]
     },
     "execution_count": 40,
     "metadata": {},
     "output_type": "execute_result"
    }
   ],
   "source": [
    "ingestar_datos(df_marca, BD = 'BaseAgrupacionMarca.bd', Tabla = 'AgrupacionMarca')\n",
    "ingestar_datos(df_category, BD = 'BaseAgrupacionCategoria.bd', Tabla = 'AgrupacionCategoria')\n",
    "ingestar_datos(df_category_mean, BD = 'BaseCategoriaMedia.bd', Tabla = 'AgrupacionCategoriaMedia')\n",
    "ingestar_datos(df_producto, BD = 'BaseProducto.bd', Tabla = 'Producto')\n",
    "ingestar_datos(df_rfm, BD = 'BaseRFM.bd', Tabla = 'RFM')\n"
   ]
  }
 ],
 "metadata": {
  "kernelspec": {
   "display_name": "base",
   "language": "python",
   "name": "python3"
  },
  "language_info": {
   "codemirror_mode": {
    "name": "ipython",
    "version": 3
   },
   "file_extension": ".py",
   "mimetype": "text/x-python",
   "name": "python",
   "nbconvert_exporter": "python",
   "pygments_lexer": "ipython3",
   "version": "3.11.3"
  },
  "orig_nbformat": 4
 },
 "nbformat": 4,
 "nbformat_minor": 2
}
